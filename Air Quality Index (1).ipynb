{
 "cells": [
  {
   "cell_type": "code",
   "execution_count": 2,
   "id": "554f7efd",
   "metadata": {},
   "outputs": [],
   "source": [
    "import requests"
   ]
  },
  {
   "cell_type": "code",
   "execution_count": 3,
   "id": "3fd77290",
   "metadata": {},
   "outputs": [
    {
     "data": {
      "text/plain": [
       "{'aqi': 65,\n",
       " 'idx': 7023,\n",
       " 'attributions': [{'url': 'http://worldweather.wmo.int',\n",
       "   'name': 'World Meteorological Organization - surface synoptic observations (WMO-SYNOP)'},\n",
       "  {'url': 'https://in.usembassy.gov/embassy-consulates/new-delhi/air-quality-data/',\n",
       "   'name': \"U.S. Embassy and Consulates' Air Quality Monitor in India\",\n",
       "   'logo': 'US-StateDepartment.png'},\n",
       "  {'url': 'https://waqi.info/', 'name': 'World Air Quality Index Project'}],\n",
       " 'city': {'geo': [13.08784, 80.27847],\n",
       "  'name': 'Chennai US Consulate, Chennai, India (चेन्नई अमेरिकी वाणिज्य दूतावास)',\n",
       "  'url': 'https://aqicn.org/city/chennai//us-consulate'},\n",
       " 'dominentpol': 'pm25',\n",
       " 'iaqi': {'dew': {'v': 26},\n",
       "  'h': {'v': 79},\n",
       "  'p': {'v': 1008},\n",
       "  'pm25': {'v': 65},\n",
       "  't': {'v': 30},\n",
       "  'w': {'v': 2.5},\n",
       "  'wg': {'v': 10.2}},\n",
       " 'time': {'s': '2021-09-19 20:00:00',\n",
       "  'tz': '+05:30',\n",
       "  'v': 1632081600,\n",
       "  'iso': '2021-09-19T20:00:00+05:30'},\n",
       " 'forecast': {'daily': {'o3': [{'avg': 7,\n",
       "     'day': '2021-09-17',\n",
       "     'max': 17,\n",
       "     'min': 1},\n",
       "    {'avg': 9, 'day': '2021-09-18', 'max': 24, 'min': 4},\n",
       "    {'avg': 10, 'day': '2021-09-19', 'max': 13, 'min': 5},\n",
       "    {'avg': 14, 'day': '2021-09-20', 'max': 27, 'min': 3},\n",
       "    {'avg': 18, 'day': '2021-09-21', 'max': 35, 'min': 6},\n",
       "    {'avg': 13, 'day': '2021-09-22', 'max': 31, 'min': 4},\n",
       "    {'avg': 8, 'day': '2021-09-23', 'max': 17, 'min': 3},\n",
       "    {'avg': 9, 'day': '2021-09-24', 'max': 16, 'min': 9}],\n",
       "   'pm10': [{'avg': 46, 'day': '2021-09-17', 'max': 46, 'min': 46},\n",
       "    {'avg': 53, 'day': '2021-09-18', 'max': 58, 'min': 46},\n",
       "    {'avg': 58, 'day': '2021-09-19', 'max': 58, 'min': 58},\n",
       "    {'avg': 53, 'day': '2021-09-20', 'max': 58, 'min': 46},\n",
       "    {'avg': 46, 'day': '2021-09-21', 'max': 46, 'min': 46},\n",
       "    {'avg': 41, 'day': '2021-09-22', 'max': 46, 'min': 28},\n",
       "    {'avg': 36, 'day': '2021-09-23', 'max': 46, 'min': 20},\n",
       "    {'avg': 37, 'day': '2021-09-24', 'max': 46, 'min': 28},\n",
       "    {'avg': 42, 'day': '2021-09-25', 'max': 46, 'min': 28}],\n",
       "   'pm25': [{'avg': 122, 'day': '2021-09-17', 'max': 135, 'min': 110},\n",
       "    {'avg': 134, 'day': '2021-09-18', 'max': 138, 'min': 98},\n",
       "    {'avg': 138, 'day': '2021-09-19', 'max': 138, 'min': 138},\n",
       "    {'avg': 124, 'day': '2021-09-20', 'max': 156, 'min': 89},\n",
       "    {'avg': 134, 'day': '2021-09-21', 'max': 138, 'min': 89},\n",
       "    {'avg': 97, 'day': '2021-09-22', 'max': 138, 'min': 89},\n",
       "    {'avg': 100, 'day': '2021-09-23', 'max': 138, 'min': 68},\n",
       "    {'avg': 105, 'day': '2021-09-24', 'max': 138, 'min': 86},\n",
       "    {'avg': 116, 'day': '2021-09-25', 'max': 138, 'min': 89}],\n",
       "   'uvi': [{'avg': 2, 'day': '2021-09-19', 'max': 7, 'min': 0},\n",
       "    {'avg': 2, 'day': '2021-09-20', 'max': 8, 'min': 0},\n",
       "    {'avg': 2, 'day': '2021-09-21', 'max': 9, 'min': 0},\n",
       "    {'avg': 2, 'day': '2021-09-22', 'max': 9, 'min': 0},\n",
       "    {'avg': 2, 'day': '2021-09-23', 'max': 10, 'min': 0},\n",
       "    {'avg': 0, 'day': '2021-09-24', 'max': 0, 'min': 0}]}},\n",
       " 'debug': {'sync': '2021-09-20T00:24:52+09:00'}}"
      ]
     },
     "execution_count": 3,
     "metadata": {},
     "output_type": "execute_result"
    }
   ],
   "source": [
    "city = 'Chennai'\n",
    "url='http://api.waqi.info/feed/'+ city + '/?token='\n",
    "api_key='ef00951d85e3c80fa2cd43627739c7f38007aefc'\n",
    "main_url=url+api_key\n",
    "r=requests.get(main_url)\n",
    "data=r.json()['data']\n",
    "data"
   ]
  },
  {
   "cell_type": "code",
   "execution_count": 4,
   "id": "95386a92",
   "metadata": {},
   "outputs": [
    {
     "data": {
      "text/plain": [
       "65"
      ]
     },
     "execution_count": 4,
     "metadata": {},
     "output_type": "execute_result"
    }
   ],
   "source": [
    "aqi=data['aqi']\n",
    "aqi"
   ]
  },
  {
   "cell_type": "code",
   "execution_count": 5,
   "id": "5265a42a",
   "metadata": {},
   "outputs": [
    {
     "data": {
      "text/plain": [
       "{'dew': {'v': 26},\n",
       " 'h': {'v': 79},\n",
       " 'p': {'v': 1008},\n",
       " 'pm25': {'v': 65},\n",
       " 't': {'v': 30},\n",
       " 'w': {'v': 2.5},\n",
       " 'wg': {'v': 10.2}}"
      ]
     },
     "execution_count": 5,
     "metadata": {},
     "output_type": "execute_result"
    }
   ],
   "source": [
    "iaqi=data['iaqi']\n",
    "iaqi"
   ]
  },
  {
   "cell_type": "code",
   "execution_count": 6,
   "id": "29bcdcd0",
   "metadata": {},
   "outputs": [],
   "source": [
    "del iaqi['p']"
   ]
  },
  {
   "cell_type": "code",
   "execution_count": 7,
   "id": "6e2ad611",
   "metadata": {},
   "outputs": [
    {
     "data": {
      "text/plain": [
       "{'dew': {'v': 26},\n",
       " 'h': {'v': 79},\n",
       " 'pm25': {'v': 65},\n",
       " 't': {'v': 30},\n",
       " 'w': {'v': 2.5},\n",
       " 'wg': {'v': 10.2}}"
      ]
     },
     "execution_count": 7,
     "metadata": {},
     "output_type": "execute_result"
    }
   ],
   "source": [
    "iaqi"
   ]
  },
  {
   "cell_type": "code",
   "execution_count": 8,
   "id": "9407d30d",
   "metadata": {},
   "outputs": [
    {
     "name": "stdout",
     "output_type": "stream",
     "text": [
      "dew : 26\n",
      "h : 79\n",
      "pm25 : 65\n",
      "t : 30\n",
      "w : 2.5\n",
      "wg : 10.2\n"
     ]
    }
   ],
   "source": [
    "for i in iaqi.items():\n",
    "    print(i[0],':',i[1]['v'])"
   ]
  },
  {
   "cell_type": "code",
   "execution_count": 11,
   "id": "ff93166a",
   "metadata": {},
   "outputs": [],
   "source": [
    "import matplotlib.pyplot as plt"
   ]
  },
  {
   "cell_type": "code",
   "execution_count": 12,
   "id": "56cb6276",
   "metadata": {},
   "outputs": [
    {
     "data": {
      "text/plain": [
       "['dew', 'h', 'pm25', 't', 'w', 'wg']"
      ]
     },
     "execution_count": 12,
     "metadata": {},
     "output_type": "execute_result"
    }
   ],
   "source": [
    "pollutants = [i for i in iaqi]\n",
    "pollutants"
   ]
  },
  {
   "cell_type": "code",
   "execution_count": 13,
   "id": "5ce9b76c",
   "metadata": {},
   "outputs": [
    {
     "data": {
      "text/plain": [
       "[26, 79, 65, 30, 2.5, 10.2]"
      ]
     },
     "execution_count": 13,
     "metadata": {},
     "output_type": "execute_result"
    }
   ],
   "source": [
    "values=[i['v'] for i in iaqi.values()]\n",
    "values"
   ]
  },
  {
   "cell_type": "code",
   "execution_count": 18,
   "id": "2b6aba40",
   "metadata": {},
   "outputs": [
    {
     "name": "stdout",
     "output_type": "stream",
     "text": [
      "[0, 0.1, 0, 0, 0, 0]\n"
     ]
    }
   ],
   "source": [
    "explode=[0 for i in pollutants]\n",
    "maximum=values.index(max(values))\n",
    "explode[maximum]=0.1\n",
    "print(explode)"
   ]
  },
  {
   "cell_type": "code",
   "execution_count": 19,
   "id": "2355d3c9",
   "metadata": {},
   "outputs": [
    {
     "data": {
      "image/png": "[encoded data removed]",
      "text/plain": [
       "<Figure size 432x288 with 1 Axes>"
      ]
     },
     "metadata": {},
     "output_type": "display_data"
    }
   ],
   "source": [
    "plt.pie(values,labels=pollutants,autopct='%.f%%',explode=explode)\n",
    "plt.show()"
   ]
  }
 ],
 "metadata": {
  "kernelspec": {
   "display_name": "Python 3",
   "language": "python",
   "name": "python3"
  },
  "language_info": {
   "codemirror_mode": {
    "name": "ipython",
    "version": 3
   },
   "file_extension": ".py",
   "mimetype": "text/x-python",
   "name": "python",
   "nbconvert_exporter": "python",
   "pygments_lexer": "ipython3",
   "version": "3.8.8"
  }
 },
 "nbformat": 4,
 "nbformat_minor": 5
}
